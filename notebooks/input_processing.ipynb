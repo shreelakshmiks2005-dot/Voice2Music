{
 "cells": [
  {
   "cell_type": "code",
   "execution_count": null,
   "id": "ddcf41b8-4909-4974-b326-c93dc2ef3469",
   "metadata": {},
   "outputs": [
    {
     "name": "stdout",
     "output_type": "stream",
     "text": [
      "Recording for 15 seconds...\n",
      "Audio saved at D:\\shree\\Miniproject\\voicetomusic\\data\\sample1.wav\n",
      "MIDI saved at D:\\shree\\Miniproject\\voicetomusic\\output\\sample1.mid\n"
     ]
    }
   ],
   "source": [
    "# ===============================\n",
    "# Voice2Music – Clean Input to MIDI\n",
    "# ===============================\n",
    "import os\n",
    "import sounddevice as sd\n",
    "import soundfile as sf\n",
    "import librosa\n",
    "import pretty_midi\n",
    "import numpy as np\n",
    "\n",
    "# -------------------------------\n",
    "# Config: folders & recording\n",
    "# -------------------------------\n",
    "DATA_FOLDER = r'D:\\shree\\Miniproject\\voicetomusic\\data'\n",
    "OUTPUT_FOLDER = r'D:\\shree\\Miniproject\\voicetomusic\\output'\n",
    "os.makedirs(DATA_FOLDER, exist_ok=True)\n",
    "os.makedirs(OUTPUT_FOLDER, exist_ok=True)\n",
    "\n",
    "# -------------------------------\n",
    "# Function: Record audio\n",
    "# -------------------------------\n",
    "def record_audio(filename='voice_sample.wav', duration=15, fs=44100):\n",
    "    \"\"\"Records audio from microphone and saves as WAV\"\"\"\n",
    "    print(f\"Recording for {duration} seconds...\")\n",
    "    recording = sd.rec(int(duration * fs), samplerate=fs, channels=1)\n",
    "    sd.wait()\n",
    "    \n",
    "    audio_path = os.path.join(DATA_FOLDER, filename)\n",
    "    sf.write(audio_path, recording, fs)\n",
    "    \n",
    "    print(f\"Audio saved at {audio_path}\")\n",
    "    return audio_path\n",
    "\n",
    "# -------------------------------\n",
    "# Function: Convert audio to MIDI\n",
    "# -------------------------------\n",
    "def audio_to_midi(audio_path):\n",
    "    \"\"\"Convert audio to MIDI and save in output folder\"\"\"\n",
    "    y, sr = librosa.load(audio_path, sr=None)\n",
    "    f0, voiced_flag, voiced_probs = librosa.pyin(\n",
    "        y, fmin=librosa.note_to_hz('C2'), fmax=librosa.note_to_hz('C7')\n",
    "    )\n",
    "    midi_notes = librosa.hz_to_midi(f0)\n",
    "\n",
    "    pm = pretty_midi.PrettyMIDI()\n",
    "    instrument = pretty_midi.Instrument(program=0)  # Acoustic Grand Piano\n",
    "    frame_duration = librosa.get_duration(y=y, sr=sr) / len(midi_notes)\n",
    "    \n",
    "    for i, note in enumerate(midi_notes):\n",
    "        if np.isnan(note):\n",
    "            continue\n",
    "        pm_note = pretty_midi.Note(velocity=100, pitch=int(note),\n",
    "                                   start=i*frame_duration, end=(i+1)*frame_duration)\n",
    "        instrument.notes.append(pm_note)\n",
    "\n",
    "    pm.instruments.append(instrument)\n",
    "    \n",
    "    # Correct output filename\n",
    "    output_name = os.path.basename(audio_path).replace('.wav', '.mid')\n",
    "    output_path = os.path.join(OUTPUT_FOLDER, output_name)\n",
    "    pm.write(output_path)\n",
    "    \n",
    "    print(f\"MIDI saved at {output_path}\")\n",
    "    return output_path\n",
    "\n",
    "# -------------------------------\n",
    "# Usage\n",
    "# -------------------------------\n",
    "# 1️⃣ Record new audio\n",
    "audio_path = record_audio(filename='sample1.wav', duration=15)\n",
    "\n",
    "# 2️⃣ Convert to MIDI\n",
    "midi_path = audio_to_midi(audio_path)\n"
   ]
  },
  {
   "cell_type": "code",
   "execution_count": null,
   "id": "121e159d-a800-47fe-b0a9-5542087ad40b",
   "metadata": {},
   "outputs": [],
   "source": []
  }
 ],
 "metadata": {
  "kernelspec": {
   "display_name": "Python 3 (ipykernel)",
   "language": "python",
   "name": "python3"
  },
  "language_info": {
   "codemirror_mode": {
    "name": "ipython",
    "version": 3
   },
   "file_extension": ".py",
   "mimetype": "text/x-python",
   "name": "python",
   "nbconvert_exporter": "python",
   "pygments_lexer": "ipython3",
   "version": "3.10.11"
  }
 },
 "nbformat": 4,
 "nbformat_minor": 5
}
