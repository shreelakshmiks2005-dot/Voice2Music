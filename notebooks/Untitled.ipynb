{
 "cells": [
  {
   "cell_type": "code",
   "execution_count": 1,
   "id": "4ab2aa58-f256-44db-97c7-b8b96d1b7e55",
   "metadata": {},
   "outputs": [
    {
     "ename": "ModuleNotFoundError",
     "evalue": "No module named 'magenta'",
     "output_type": "error",
     "traceback": [
      "\u001b[1;31m---------------------------------------------------------------------------\u001b[0m",
      "\u001b[1;31mModuleNotFoundError\u001b[0m                       Traceback (most recent call last)",
      "Cell \u001b[1;32mIn[1], line 1\u001b[0m\n\u001b[1;32m----> 1\u001b[0m \u001b[38;5;28;01mimport\u001b[39;00m\u001b[38;5;250m \u001b[39m\u001b[38;5;21;01mmagenta\u001b[39;00m\n\u001b[0;32m      2\u001b[0m \u001b[38;5;28;01mimport\u001b[39;00m\u001b[38;5;250m \u001b[39m\u001b[38;5;21;01mnote_seq\u001b[39;00m\n\u001b[0;32m      3\u001b[0m \u001b[38;5;28;01mfrom\u001b[39;00m\u001b[38;5;250m \u001b[39m\u001b[38;5;21;01mmagenta\u001b[39;00m\u001b[38;5;21;01m.\u001b[39;00m\u001b[38;5;21;01mmodels\u001b[39;00m\u001b[38;5;21;01m.\u001b[39;00m\u001b[38;5;21;01mmusic_vae\u001b[39;00m\u001b[38;5;250m \u001b[39m\u001b[38;5;28;01mimport\u001b[39;00m TrainedModel\n",
      "\u001b[1;31mModuleNotFoundError\u001b[0m: No module named 'magenta'"
     ]
    }
   ],
   "source": [
    "import magenta\n",
    "import note_seq\n",
    "from magenta.models.music_vae import TrainedModel\n",
    "from magenta.models.music_vae import configs\n",
    "\n",
    "# Pick model: melody or multi-track\n",
    "# 'cat-mel_2bar_big' is a good starting point for melody\n",
    "model_name = 'cat-mel_2bar_big'\n",
    "\n",
    "config = configs.CONFIG_MAP[model_name]\n",
    "music_vae = TrainedModel(\n",
    "    config,\n",
    "    batch_size=8,\n",
    "    checkpoint_dir_or_path=note_seq.music_vae_checkpoint(model_name)\n",
    ")\n",
    "\n",
    "print(\" MusicVAE model loaded successfully!\")"
   ]
  },
  {
   "cell_type": "code",
   "execution_count": null,
   "id": "a59cbd8f-d7e5-44bd-8b37-2ca8eae9c657",
   "metadata": {},
   "outputs": [],
   "source": []
  }
 ],
 "metadata": {
  "kernelspec": {
   "display_name": "Python 3 (ipykernel)",
   "language": "python",
   "name": "python3"
  },
  "language_info": {
   "codemirror_mode": {
    "name": "ipython",
    "version": 3
   },
   "file_extension": ".py",
   "mimetype": "text/x-python",
   "name": "python",
   "nbconvert_exporter": "python",
   "pygments_lexer": "ipython3",
   "version": "3.10.11"
  }
 },
 "nbformat": 4,
 "nbformat_minor": 5
}
